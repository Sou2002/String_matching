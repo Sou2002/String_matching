{
 "cells": [
  {
   "cell_type": "code",
   "execution_count": 1,
   "metadata": {},
   "outputs": [],
   "source": [
    "import pandas as pd\n",
    "from find_matching import find_matching"
   ]
  },
  {
   "cell_type": "code",
   "execution_count": 2,
   "metadata": {},
   "outputs": [],
   "source": [
    "list1 =  ['Economically backward Students ---Nebs', 'SNO', 'None', 'None', 'None', 'None', 'Socially Challenged Students', \n",
    "          'Students Receiving Tuition fee Reimbursement from Govt.', 'Students Receiving Tuition fee Reimbursement from Institution ---Nif', \n",
    "          'Students Receiving Tuition fee Reimbursement from Private Bodies']\n",
    "\n",
    "list2 = ['( A) + (B )', '( C ) + ( D ) + ( E )', 'Economically backward Students ---Nebs ( A)', 'Others', 'S.No', \n",
    "         'Socially Challenged Students (B )', 'Students Receiving Tuition fee Reimbursement from Govt. ( C ) ', \n",
    "         'Students Receiving Tuition fee Reimbursement from Institution ---Nif ( D ) ', \n",
    "         'Students Receiving Tuition fee Reimbursement from Private Bodies( E )', 'Visiting']"
   ]
  },
  {
   "cell_type": "code",
   "execution_count": 3,
   "metadata": {},
   "outputs": [],
   "source": [
    "matched_phrases = find_matching(list1, list2)"
   ]
  },
  {
   "cell_type": "code",
   "execution_count": 4,
   "metadata": {},
   "outputs": [],
   "source": [
    "df = pd.DataFrame(matched_phrases, columns = ['List1', 'List2'])"
   ]
  },
  {
   "cell_type": "code",
   "execution_count": 7,
   "metadata": {},
   "outputs": [
    {
     "data": {
      "text/html": [
       "<div>\n",
       "<style scoped>\n",
       "    .dataframe tbody tr th:only-of-type {\n",
       "        vertical-align: middle;\n",
       "    }\n",
       "\n",
       "    .dataframe tbody tr th {\n",
       "        vertical-align: top;\n",
       "    }\n",
       "\n",
       "    .dataframe thead th {\n",
       "        text-align: right;\n",
       "    }\n",
       "</style>\n",
       "<table border=\"1\" class=\"dataframe\">\n",
       "  <thead>\n",
       "    <tr style=\"text-align: right;\">\n",
       "      <th></th>\n",
       "      <th>List1</th>\n",
       "      <th>List2</th>\n",
       "    </tr>\n",
       "  </thead>\n",
       "  <tbody>\n",
       "    <tr>\n",
       "      <th>0</th>\n",
       "      <td>Economically backward Students ---Nebs</td>\n",
       "      <td>Economically backward Students ---Nebs ( A)</td>\n",
       "    </tr>\n",
       "    <tr>\n",
       "      <th>1</th>\n",
       "      <td>SNO</td>\n",
       "      <td>S.No</td>\n",
       "    </tr>\n",
       "    <tr>\n",
       "      <th>2</th>\n",
       "      <td>None</td>\n",
       "      <td>S.No</td>\n",
       "    </tr>\n",
       "    <tr>\n",
       "      <th>3</th>\n",
       "      <td>None</td>\n",
       "      <td>S.No</td>\n",
       "    </tr>\n",
       "    <tr>\n",
       "      <th>4</th>\n",
       "      <td>None</td>\n",
       "      <td>S.No</td>\n",
       "    </tr>\n",
       "    <tr>\n",
       "      <th>5</th>\n",
       "      <td>None</td>\n",
       "      <td>S.No</td>\n",
       "    </tr>\n",
       "    <tr>\n",
       "      <th>6</th>\n",
       "      <td>Socially Challenged Students</td>\n",
       "      <td>Socially Challenged Students (B )</td>\n",
       "    </tr>\n",
       "    <tr>\n",
       "      <th>7</th>\n",
       "      <td>Students Receiving Tuition fee Reimbursement f...</td>\n",
       "      <td>Students Receiving Tuition fee Reimbursement f...</td>\n",
       "    </tr>\n",
       "    <tr>\n",
       "      <th>8</th>\n",
       "      <td>Students Receiving Tuition fee Reimbursement f...</td>\n",
       "      <td>Students Receiving Tuition fee Reimbursement f...</td>\n",
       "    </tr>\n",
       "    <tr>\n",
       "      <th>9</th>\n",
       "      <td>Students Receiving Tuition fee Reimbursement f...</td>\n",
       "      <td>Students Receiving Tuition fee Reimbursement f...</td>\n",
       "    </tr>\n",
       "  </tbody>\n",
       "</table>\n",
       "</div>"
      ],
      "text/plain": [
       "                                               List1  \\\n",
       "0             Economically backward Students ---Nebs   \n",
       "1                                                SNO   \n",
       "2                                               None   \n",
       "3                                               None   \n",
       "4                                               None   \n",
       "5                                               None   \n",
       "6                       Socially Challenged Students   \n",
       "7  Students Receiving Tuition fee Reimbursement f...   \n",
       "8  Students Receiving Tuition fee Reimbursement f...   \n",
       "9  Students Receiving Tuition fee Reimbursement f...   \n",
       "\n",
       "                                               List2  \n",
       "0        Economically backward Students ---Nebs ( A)  \n",
       "1                                               S.No  \n",
       "2                                               S.No  \n",
       "3                                               S.No  \n",
       "4                                               S.No  \n",
       "5                                               S.No  \n",
       "6                  Socially Challenged Students (B )  \n",
       "7  Students Receiving Tuition fee Reimbursement f...  \n",
       "8  Students Receiving Tuition fee Reimbursement f...  \n",
       "9  Students Receiving Tuition fee Reimbursement f...  "
      ]
     },
     "execution_count": 7,
     "metadata": {},
     "output_type": "execute_result"
    }
   ],
   "source": [
    "df"
   ]
  },
  {
   "cell_type": "code",
   "execution_count": null,
   "metadata": {},
   "outputs": [],
   "source": []
  }
 ],
 "metadata": {
  "kernelspec": {
   "display_name": "Python 3",
   "language": "python",
   "name": "python3"
  },
  "language_info": {
   "codemirror_mode": {
    "name": "ipython",
    "version": 3
   },
   "file_extension": ".py",
   "mimetype": "text/x-python",
   "name": "python",
   "nbconvert_exporter": "python",
   "pygments_lexer": "ipython3",
   "version": "3.12.1"
  }
 },
 "nbformat": 4,
 "nbformat_minor": 2
}
